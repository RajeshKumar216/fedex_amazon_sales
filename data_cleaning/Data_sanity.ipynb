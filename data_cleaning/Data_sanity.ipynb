{
 "cells": [
  {
   "cell_type": "code",
   "execution_count": 6,
   "id": "d8407e0f",
   "metadata": {},
   "outputs": [],
   "source": [
    "# !pip install pandas\n",
    "# !pip install sqlalchemy\n",
    "import pandas as pd\n",
    "import re\n",
    "import warnings\n",
    "warnings.filterwarnings('ignore')\n",
    "\n",
    "from sqlalchemy import create_engine"
   ]
  },
  {
   "cell_type": "code",
   "execution_count": 7,
   "id": "73fc537c",
   "metadata": {},
   "outputs": [],
   "source": [
    "# loading csv file as dataframe\n",
    "dataframe = pd.read_csv(\"Amazon Sale Report.csv\")"
   ]
  },
  {
   "cell_type": "code",
   "execution_count": 8,
   "id": "d03cce21",
   "metadata": {},
   "outputs": [
    {
     "data": {
      "text/html": [
       "<div>\n",
       "<style scoped>\n",
       "    .dataframe tbody tr th:only-of-type {\n",
       "        vertical-align: middle;\n",
       "    }\n",
       "\n",
       "    .dataframe tbody tr th {\n",
       "        vertical-align: top;\n",
       "    }\n",
       "\n",
       "    .dataframe thead th {\n",
       "        text-align: right;\n",
       "    }\n",
       "</style>\n",
       "<table border=\"1\" class=\"dataframe\">\n",
       "  <thead>\n",
       "    <tr style=\"text-align: right;\">\n",
       "      <th></th>\n",
       "      <th>index</th>\n",
       "      <th>Order ID</th>\n",
       "      <th>Date</th>\n",
       "      <th>Status</th>\n",
       "      <th>Fulfilment</th>\n",
       "      <th>Sales Channel</th>\n",
       "      <th>ship-service-level</th>\n",
       "      <th>Style</th>\n",
       "      <th>SKU</th>\n",
       "      <th>Category</th>\n",
       "      <th>...</th>\n",
       "      <th>currency</th>\n",
       "      <th>Amount</th>\n",
       "      <th>ship-city</th>\n",
       "      <th>ship-state</th>\n",
       "      <th>ship-postal-code</th>\n",
       "      <th>ship-country</th>\n",
       "      <th>promotion-ids</th>\n",
       "      <th>B2B</th>\n",
       "      <th>fulfilled-by</th>\n",
       "      <th>Unnamed: 22</th>\n",
       "    </tr>\n",
       "  </thead>\n",
       "  <tbody>\n",
       "    <tr>\n",
       "      <th>0</th>\n",
       "      <td>0</td>\n",
       "      <td>405-8078784-5731545</td>\n",
       "      <td>04-30-22</td>\n",
       "      <td>Cancelled</td>\n",
       "      <td>Merchant</td>\n",
       "      <td>Amazon.in</td>\n",
       "      <td>Standard</td>\n",
       "      <td>SET389</td>\n",
       "      <td>SET389-KR-NP-S</td>\n",
       "      <td>Set</td>\n",
       "      <td>...</td>\n",
       "      <td>INR</td>\n",
       "      <td>647.62</td>\n",
       "      <td>MUMBAI</td>\n",
       "      <td>MAHARASHTRA</td>\n",
       "      <td>400081.0</td>\n",
       "      <td>IN</td>\n",
       "      <td>NaN</td>\n",
       "      <td>False</td>\n",
       "      <td>Easy Ship</td>\n",
       "      <td>NaN</td>\n",
       "    </tr>\n",
       "    <tr>\n",
       "      <th>1</th>\n",
       "      <td>1</td>\n",
       "      <td>171-9198151-1101146</td>\n",
       "      <td>04-30-22</td>\n",
       "      <td>Shipped - Delivered to Buyer</td>\n",
       "      <td>Merchant</td>\n",
       "      <td>Amazon.in</td>\n",
       "      <td>Standard</td>\n",
       "      <td>JNE3781</td>\n",
       "      <td>JNE3781-KR-XXXL</td>\n",
       "      <td>kurta</td>\n",
       "      <td>...</td>\n",
       "      <td>INR</td>\n",
       "      <td>406.00</td>\n",
       "      <td>BENGALURU</td>\n",
       "      <td>KARNATAKA</td>\n",
       "      <td>560085.0</td>\n",
       "      <td>IN</td>\n",
       "      <td>Amazon PLCC Free-Financing Universal Merchant ...</td>\n",
       "      <td>False</td>\n",
       "      <td>Easy Ship</td>\n",
       "      <td>NaN</td>\n",
       "    </tr>\n",
       "    <tr>\n",
       "      <th>2</th>\n",
       "      <td>2</td>\n",
       "      <td>404-0687676-7273146</td>\n",
       "      <td>04-30-22</td>\n",
       "      <td>Shipped</td>\n",
       "      <td>Amazon</td>\n",
       "      <td>Amazon.in</td>\n",
       "      <td>Expedited</td>\n",
       "      <td>JNE3371</td>\n",
       "      <td>JNE3371-KR-XL</td>\n",
       "      <td>kurta</td>\n",
       "      <td>...</td>\n",
       "      <td>INR</td>\n",
       "      <td>329.00</td>\n",
       "      <td>NAVI MUMBAI</td>\n",
       "      <td>MAHARASHTRA</td>\n",
       "      <td>410210.0</td>\n",
       "      <td>IN</td>\n",
       "      <td>IN Core Free Shipping 2015/04/08 23-48-5-108</td>\n",
       "      <td>True</td>\n",
       "      <td>NaN</td>\n",
       "      <td>NaN</td>\n",
       "    </tr>\n",
       "    <tr>\n",
       "      <th>3</th>\n",
       "      <td>3</td>\n",
       "      <td>403-9615377-8133951</td>\n",
       "      <td>04-30-22</td>\n",
       "      <td>Cancelled</td>\n",
       "      <td>Merchant</td>\n",
       "      <td>Amazon.in</td>\n",
       "      <td>Standard</td>\n",
       "      <td>J0341</td>\n",
       "      <td>J0341-DR-L</td>\n",
       "      <td>Western Dress</td>\n",
       "      <td>...</td>\n",
       "      <td>INR</td>\n",
       "      <td>753.33</td>\n",
       "      <td>PUDUCHERRY</td>\n",
       "      <td>PUDUCHERRY</td>\n",
       "      <td>605008.0</td>\n",
       "      <td>IN</td>\n",
       "      <td>NaN</td>\n",
       "      <td>False</td>\n",
       "      <td>Easy Ship</td>\n",
       "      <td>NaN</td>\n",
       "    </tr>\n",
       "    <tr>\n",
       "      <th>4</th>\n",
       "      <td>4</td>\n",
       "      <td>407-1069790-7240320</td>\n",
       "      <td>04-30-22</td>\n",
       "      <td>Shipped</td>\n",
       "      <td>Amazon</td>\n",
       "      <td>Amazon.in</td>\n",
       "      <td>Expedited</td>\n",
       "      <td>JNE3671</td>\n",
       "      <td>JNE3671-TU-XXXL</td>\n",
       "      <td>Top</td>\n",
       "      <td>...</td>\n",
       "      <td>INR</td>\n",
       "      <td>574.00</td>\n",
       "      <td>CHENNAI</td>\n",
       "      <td>TAMIL NADU</td>\n",
       "      <td>600073.0</td>\n",
       "      <td>IN</td>\n",
       "      <td>NaN</td>\n",
       "      <td>False</td>\n",
       "      <td>NaN</td>\n",
       "      <td>NaN</td>\n",
       "    </tr>\n",
       "  </tbody>\n",
       "</table>\n",
       "<p>5 rows × 24 columns</p>\n",
       "</div>"
      ],
      "text/plain": [
       "   index             Order ID      Date                        Status  \\\n",
       "0      0  405-8078784-5731545  04-30-22                     Cancelled   \n",
       "1      1  171-9198151-1101146  04-30-22  Shipped - Delivered to Buyer   \n",
       "2      2  404-0687676-7273146  04-30-22                       Shipped   \n",
       "3      3  403-9615377-8133951  04-30-22                     Cancelled   \n",
       "4      4  407-1069790-7240320  04-30-22                       Shipped   \n",
       "\n",
       "  Fulfilment Sales Channel  ship-service-level    Style              SKU  \\\n",
       "0   Merchant      Amazon.in           Standard   SET389   SET389-KR-NP-S   \n",
       "1   Merchant      Amazon.in           Standard  JNE3781  JNE3781-KR-XXXL   \n",
       "2     Amazon      Amazon.in          Expedited  JNE3371    JNE3371-KR-XL   \n",
       "3   Merchant      Amazon.in           Standard    J0341       J0341-DR-L   \n",
       "4     Amazon      Amazon.in          Expedited  JNE3671  JNE3671-TU-XXXL   \n",
       "\n",
       "        Category  ... currency  Amount    ship-city   ship-state  \\\n",
       "0            Set  ...      INR  647.62       MUMBAI  MAHARASHTRA   \n",
       "1          kurta  ...      INR  406.00    BENGALURU    KARNATAKA   \n",
       "2          kurta  ...      INR  329.00  NAVI MUMBAI  MAHARASHTRA   \n",
       "3  Western Dress  ...      INR  753.33   PUDUCHERRY   PUDUCHERRY   \n",
       "4            Top  ...      INR  574.00      CHENNAI   TAMIL NADU   \n",
       "\n",
       "  ship-postal-code  ship-country  \\\n",
       "0         400081.0            IN   \n",
       "1         560085.0            IN   \n",
       "2         410210.0            IN   \n",
       "3         605008.0            IN   \n",
       "4         600073.0            IN   \n",
       "\n",
       "                                       promotion-ids    B2B  fulfilled-by  \\\n",
       "0                                                NaN  False     Easy Ship   \n",
       "1  Amazon PLCC Free-Financing Universal Merchant ...  False     Easy Ship   \n",
       "2       IN Core Free Shipping 2015/04/08 23-48-5-108   True           NaN   \n",
       "3                                                NaN  False     Easy Ship   \n",
       "4                                                NaN  False           NaN   \n",
       "\n",
       "  Unnamed: 22  \n",
       "0         NaN  \n",
       "1         NaN  \n",
       "2         NaN  \n",
       "3         NaN  \n",
       "4         NaN  \n",
       "\n",
       "[5 rows x 24 columns]"
      ]
     },
     "execution_count": 8,
     "metadata": {},
     "output_type": "execute_result"
    }
   ],
   "source": [
    "# checking first 5 rows of the dataframe\n",
    "dataframe.head()"
   ]
  },
  {
   "cell_type": "code",
   "execution_count": 9,
   "id": "28da498f",
   "metadata": {},
   "outputs": [
    {
     "name": "stdout",
     "output_type": "stream",
     "text": [
      "<class 'pandas.core.frame.DataFrame'>\n",
      "RangeIndex: 128975 entries, 0 to 128974\n",
      "Data columns (total 24 columns):\n",
      " #   Column              Non-Null Count   Dtype  \n",
      "---  ------              --------------   -----  \n",
      " 0   index               128975 non-null  int64  \n",
      " 1   Order ID            128975 non-null  object \n",
      " 2   Date                128975 non-null  object \n",
      " 3   Status              128975 non-null  object \n",
      " 4   Fulfilment          128975 non-null  object \n",
      " 5   Sales Channel       128975 non-null  object \n",
      " 6   ship-service-level  128975 non-null  object \n",
      " 7   Style               128975 non-null  object \n",
      " 8   SKU                 128975 non-null  object \n",
      " 9   Category            128975 non-null  object \n",
      " 10  Size                128975 non-null  object \n",
      " 11  ASIN                128975 non-null  object \n",
      " 12  Courier Status      122103 non-null  object \n",
      " 13  Qty                 128975 non-null  int64  \n",
      " 14  currency            121180 non-null  object \n",
      " 15  Amount              121180 non-null  float64\n",
      " 16  ship-city           128942 non-null  object \n",
      " 17  ship-state          128942 non-null  object \n",
      " 18  ship-postal-code    128942 non-null  float64\n",
      " 19  ship-country        128942 non-null  object \n",
      " 20  promotion-ids       79822 non-null   object \n",
      " 21  B2B                 128975 non-null  bool   \n",
      " 22  fulfilled-by        39277 non-null   object \n",
      " 23  Unnamed: 22         79925 non-null   object \n",
      "dtypes: bool(1), float64(2), int64(2), object(19)\n",
      "memory usage: 22.8+ MB\n"
     ]
    }
   ],
   "source": [
    "# checking all column types\n",
    "dataframe.info()"
   ]
  },
  {
   "cell_type": "code",
   "execution_count": 10,
   "id": "2758417d",
   "metadata": {},
   "outputs": [
    {
     "data": {
      "text/plain": [
       "array([nan, False], dtype=object)"
      ]
     },
     "execution_count": 10,
     "metadata": {},
     "output_type": "execute_result"
    }
   ],
   "source": [
    "# checking unique values in Unnamed: 22 column\n",
    "dataframe['Unnamed: 22'].unique()"
   ]
  },
  {
   "cell_type": "code",
   "execution_count": 11,
   "id": "409f1ce9",
   "metadata": {},
   "outputs": [],
   "source": [
    "# dropping unwanted index and 'Unnamed: 22' columns\n",
    "dataframe = dataframe.drop(columns=['index','Unnamed: 22'], errors='ignore')"
   ]
  },
  {
   "cell_type": "code",
   "execution_count": 12,
   "id": "6823bd87",
   "metadata": {},
   "outputs": [
    {
     "data": {
      "text/plain": [
       "Index(['Order ID', 'Date', 'Status', 'Fulfilment', 'Sales Channel ',\n",
       "       'ship-service-level', 'Style', 'SKU', 'Category', 'Size', 'ASIN',\n",
       "       'Courier Status', 'Qty', 'currency', 'Amount', 'ship-city',\n",
       "       'ship-state', 'ship-postal-code', 'ship-country', 'promotion-ids',\n",
       "       'B2B', 'fulfilled-by'],\n",
       "      dtype='object')"
      ]
     },
     "execution_count": 12,
     "metadata": {},
     "output_type": "execute_result"
    }
   ],
   "source": [
    "dataframe.columns"
   ]
  },
  {
   "cell_type": "code",
   "execution_count": 13,
   "id": "3599ccc3",
   "metadata": {},
   "outputs": [],
   "source": [
    "# lets drop duplicate rows in dataframe\n",
    "dataframe.drop_duplicates(inplace=True)"
   ]
  },
  {
   "cell_type": "code",
   "execution_count": 14,
   "id": "72fab65a",
   "metadata": {},
   "outputs": [],
   "source": [
    "dataframe = dataframe.reset_index(drop=True)"
   ]
  },
  {
   "cell_type": "code",
   "execution_count": 15,
   "id": "6dff2200",
   "metadata": {},
   "outputs": [
    {
     "data": {
      "text/plain": [
       "Order ID                  0\n",
       "Date                      0\n",
       "Status                    0\n",
       "Fulfilment                0\n",
       "Sales Channel             0\n",
       "ship-service-level        0\n",
       "Style                     0\n",
       "SKU                       0\n",
       "Category                  0\n",
       "Size                      0\n",
       "ASIN                      0\n",
       "Courier Status         6872\n",
       "Qty                       0\n",
       "currency               7792\n",
       "Amount                 7792\n",
       "ship-city                33\n",
       "ship-state               33\n",
       "ship-postal-code         33\n",
       "ship-country             33\n",
       "promotion-ids         49150\n",
       "B2B                       0\n",
       "fulfilled-by          89692\n",
       "dtype: int64"
      ]
     },
     "execution_count": 15,
     "metadata": {},
     "output_type": "execute_result"
    }
   ],
   "source": [
    "# checking null values in columns\n",
    "dataframe.isnull().sum()"
   ]
  },
  {
   "cell_type": "code",
   "execution_count": 16,
   "id": "8880687e",
   "metadata": {},
   "outputs": [],
   "source": [
    "# FUnction to strip the spaces\n",
    "def strip_spaces(df, column) -> dataframe:\n",
    "    \"\"\"\n",
    "    Strips leading and trailing spaces from specified columns in a DataFrame.\n",
    "\n",
    "    Parameters:\n",
    "    df (pd.DataFrame): The DataFrame to be cleaned.\n",
    "    columns (list): A list of column names to strip spaces from.\n",
    "\n",
    "    Returns:\n",
    "    pd.DataFrame: The cleaned DataFrame with spaces stripped from specified columns.\n",
    "    \"\"\"\n",
    "    if df[column].dtype == 'object':\n",
    "        df[column] = df[column].str.strip()\n",
    "    return df\n"
   ]
  },
  {
   "cell_type": "markdown",
   "id": "e0d341b8",
   "metadata": {},
   "source": [
    "### Cleaning Order ID"
   ]
  },
  {
   "cell_type": "code",
   "execution_count": 17,
   "id": "34f13c3f",
   "metadata": {},
   "outputs": [],
   "source": [
    "# string while spaces\n",
    "dataframe = strip_spaces(dataframe, 'Order ID')"
   ]
  },
  {
   "cell_type": "code",
   "execution_count": 18,
   "id": "651b7df1",
   "metadata": {},
   "outputs": [
    {
     "data": {
      "text/plain": [
       "405-8078784-5731545     1\n",
       "407-4776379-8226739     1\n",
       "402-2059476-3753134     1\n",
       "403-8280533-5594767     1\n",
       "404-5453829-4022737     1\n",
       "                       ..\n",
       "408-3317403-1729937    10\n",
       "403-0173977-3041148    11\n",
       "404-9932919-6662730    11\n",
       "403-4984515-8861958    12\n",
       "171-5057375-2831560    12\n",
       "Name: Order ID, Length: 120378, dtype: int64"
      ]
     },
     "execution_count": 18,
     "metadata": {},
     "output_type": "execute_result"
    }
   ],
   "source": [
    "dataframe['Order ID'].value_counts(ascending=True)"
   ]
  },
  {
   "cell_type": "code",
   "execution_count": 19,
   "id": "d41e92ee",
   "metadata": {
    "scrolled": true
   },
   "outputs": [
    {
     "data": {
      "text/html": [
       "<div>\n",
       "<style scoped>\n",
       "    .dataframe tbody tr th:only-of-type {\n",
       "        vertical-align: middle;\n",
       "    }\n",
       "\n",
       "    .dataframe tbody tr th {\n",
       "        vertical-align: top;\n",
       "    }\n",
       "\n",
       "    .dataframe thead th {\n",
       "        text-align: right;\n",
       "    }\n",
       "</style>\n",
       "<table border=\"1\" class=\"dataframe\">\n",
       "  <thead>\n",
       "    <tr style=\"text-align: right;\">\n",
       "      <th></th>\n",
       "      <th>Order ID</th>\n",
       "      <th>Date</th>\n",
       "      <th>Status</th>\n",
       "      <th>Fulfilment</th>\n",
       "      <th>Sales Channel</th>\n",
       "      <th>ship-service-level</th>\n",
       "      <th>Style</th>\n",
       "      <th>SKU</th>\n",
       "      <th>Category</th>\n",
       "      <th>Size</th>\n",
       "      <th>...</th>\n",
       "      <th>Qty</th>\n",
       "      <th>currency</th>\n",
       "      <th>Amount</th>\n",
       "      <th>ship-city</th>\n",
       "      <th>ship-state</th>\n",
       "      <th>ship-postal-code</th>\n",
       "      <th>ship-country</th>\n",
       "      <th>promotion-ids</th>\n",
       "      <th>B2B</th>\n",
       "      <th>fulfilled-by</th>\n",
       "    </tr>\n",
       "  </thead>\n",
       "  <tbody>\n",
       "    <tr>\n",
       "      <th>37</th>\n",
       "      <td>403-4367956-2849158</td>\n",
       "      <td>04-30-22</td>\n",
       "      <td>Shipped</td>\n",
       "      <td>Amazon</td>\n",
       "      <td>Amazon.in</td>\n",
       "      <td>Expedited</td>\n",
       "      <td>JNE3787</td>\n",
       "      <td>JNE3787-KR-S</td>\n",
       "      <td>kurta</td>\n",
       "      <td>S</td>\n",
       "      <td>...</td>\n",
       "      <td>1</td>\n",
       "      <td>INR</td>\n",
       "      <td>487.0</td>\n",
       "      <td>NEW DELHI</td>\n",
       "      <td>DELHI</td>\n",
       "      <td>110092.0</td>\n",
       "      <td>IN</td>\n",
       "      <td>IN Core Free Shipping 2015/04/08 23-48-5-108</td>\n",
       "      <td>False</td>\n",
       "      <td>NaN</td>\n",
       "    </tr>\n",
       "    <tr>\n",
       "      <th>38</th>\n",
       "      <td>403-4367956-2849158</td>\n",
       "      <td>04-30-22</td>\n",
       "      <td>Shipped</td>\n",
       "      <td>Amazon</td>\n",
       "      <td>Amazon.in</td>\n",
       "      <td>Expedited</td>\n",
       "      <td>JNE3543</td>\n",
       "      <td>JNE3543-KR-S</td>\n",
       "      <td>kurta</td>\n",
       "      <td>S</td>\n",
       "      <td>...</td>\n",
       "      <td>1</td>\n",
       "      <td>INR</td>\n",
       "      <td>368.0</td>\n",
       "      <td>NEW DELHI</td>\n",
       "      <td>DELHI</td>\n",
       "      <td>110092.0</td>\n",
       "      <td>IN</td>\n",
       "      <td>IN Core Free Shipping 2015/04/08 23-48-5-108</td>\n",
       "      <td>False</td>\n",
       "      <td>NaN</td>\n",
       "    </tr>\n",
       "    <tr>\n",
       "      <th>61</th>\n",
       "      <td>404-2262140-4696366</td>\n",
       "      <td>04-30-22</td>\n",
       "      <td>Shipped</td>\n",
       "      <td>Amazon</td>\n",
       "      <td>Amazon.in</td>\n",
       "      <td>Expedited</td>\n",
       "      <td>JNE2270</td>\n",
       "      <td>JNE2270-KR-487-A-M</td>\n",
       "      <td>kurta</td>\n",
       "      <td>M</td>\n",
       "      <td>...</td>\n",
       "      <td>1</td>\n",
       "      <td>INR</td>\n",
       "      <td>518.0</td>\n",
       "      <td>NAGPUR</td>\n",
       "      <td>MAHARASHTRA</td>\n",
       "      <td>440022.0</td>\n",
       "      <td>IN</td>\n",
       "      <td>IN Core Free Shipping 2015/04/08 23-48-5-108</td>\n",
       "      <td>False</td>\n",
       "      <td>NaN</td>\n",
       "    </tr>\n",
       "    <tr>\n",
       "      <th>62</th>\n",
       "      <td>404-2262140-4696366</td>\n",
       "      <td>04-30-22</td>\n",
       "      <td>Shipped</td>\n",
       "      <td>Amazon</td>\n",
       "      <td>Amazon.in</td>\n",
       "      <td>Expedited</td>\n",
       "      <td>JNE3579</td>\n",
       "      <td>JNE3579-KR-M</td>\n",
       "      <td>kurta</td>\n",
       "      <td>M</td>\n",
       "      <td>...</td>\n",
       "      <td>1</td>\n",
       "      <td>INR</td>\n",
       "      <td>295.0</td>\n",
       "      <td>NAGPUR</td>\n",
       "      <td>MAHARASHTRA</td>\n",
       "      <td>440022.0</td>\n",
       "      <td>IN</td>\n",
       "      <td>IN Core Free Shipping 2015/04/08 23-48-5-108</td>\n",
       "      <td>False</td>\n",
       "      <td>NaN</td>\n",
       "    </tr>\n",
       "    <tr>\n",
       "      <th>79</th>\n",
       "      <td>408-4069830-3819562</td>\n",
       "      <td>04-30-22</td>\n",
       "      <td>Shipped</td>\n",
       "      <td>Amazon</td>\n",
       "      <td>Amazon.in</td>\n",
       "      <td>Expedited</td>\n",
       "      <td>SET288</td>\n",
       "      <td>SET288-KR-NP-XXXL</td>\n",
       "      <td>Set</td>\n",
       "      <td>3XL</td>\n",
       "      <td>...</td>\n",
       "      <td>1</td>\n",
       "      <td>INR</td>\n",
       "      <td>684.0</td>\n",
       "      <td>Kolkata</td>\n",
       "      <td>WEST BENGAL</td>\n",
       "      <td>700048.0</td>\n",
       "      <td>IN</td>\n",
       "      <td>IN Core Free Shipping 2015/04/08 23-48-5-108</td>\n",
       "      <td>False</td>\n",
       "      <td>NaN</td>\n",
       "    </tr>\n",
       "  </tbody>\n",
       "</table>\n",
       "<p>5 rows × 22 columns</p>\n",
       "</div>"
      ],
      "text/plain": [
       "               Order ID      Date   Status Fulfilment Sales Channel   \\\n",
       "37  403-4367956-2849158  04-30-22  Shipped     Amazon      Amazon.in   \n",
       "38  403-4367956-2849158  04-30-22  Shipped     Amazon      Amazon.in   \n",
       "61  404-2262140-4696366  04-30-22  Shipped     Amazon      Amazon.in   \n",
       "62  404-2262140-4696366  04-30-22  Shipped     Amazon      Amazon.in   \n",
       "79  408-4069830-3819562  04-30-22  Shipped     Amazon      Amazon.in   \n",
       "\n",
       "   ship-service-level    Style                 SKU Category Size  ... Qty  \\\n",
       "37          Expedited  JNE3787        JNE3787-KR-S    kurta    S  ...   1   \n",
       "38          Expedited  JNE3543        JNE3543-KR-S    kurta    S  ...   1   \n",
       "61          Expedited  JNE2270  JNE2270-KR-487-A-M    kurta    M  ...   1   \n",
       "62          Expedited  JNE3579        JNE3579-KR-M    kurta    M  ...   1   \n",
       "79          Expedited   SET288   SET288-KR-NP-XXXL      Set  3XL  ...   1   \n",
       "\n",
       "   currency  Amount  ship-city   ship-state ship-postal-code ship-country  \\\n",
       "37      INR   487.0  NEW DELHI        DELHI         110092.0           IN   \n",
       "38      INR   368.0  NEW DELHI        DELHI         110092.0           IN   \n",
       "61      INR   518.0     NAGPUR  MAHARASHTRA         440022.0           IN   \n",
       "62      INR   295.0     NAGPUR  MAHARASHTRA         440022.0           IN   \n",
       "79      INR   684.0    Kolkata  WEST BENGAL         700048.0           IN   \n",
       "\n",
       "                                   promotion-ids    B2B fulfilled-by  \n",
       "37  IN Core Free Shipping 2015/04/08 23-48-5-108  False          NaN  \n",
       "38  IN Core Free Shipping 2015/04/08 23-48-5-108  False          NaN  \n",
       "61  IN Core Free Shipping 2015/04/08 23-48-5-108  False          NaN  \n",
       "62  IN Core Free Shipping 2015/04/08 23-48-5-108  False          NaN  \n",
       "79  IN Core Free Shipping 2015/04/08 23-48-5-108  False          NaN  \n",
       "\n",
       "[5 rows x 22 columns]"
      ]
     },
     "execution_count": 19,
     "metadata": {},
     "output_type": "execute_result"
    }
   ],
   "source": [
    "# finding duplicate order id\n",
    "duplicate_records = dataframe[dataframe.duplicated(subset=['Order ID'], keep=False)]\n",
    "duplicate_records.head()"
   ]
  },
  {
   "cell_type": "code",
   "execution_count": 20,
   "id": "00d70fa5",
   "metadata": {},
   "outputs": [],
   "source": [
    "''' dropping all the duplicate records by keeping last one assuming all previous \n",
    "    records are overwritten by last record\n",
    "''' \n",
    "dataframe = dataframe.sort_values(by=['Order ID', 'Date'], ascending=[True, False])\n",
    "dataframe = dataframe.drop_duplicates(subset=['Order ID'], keep='first')"
   ]
  },
  {
   "cell_type": "code",
   "execution_count": 21,
   "id": "5143ec99",
   "metadata": {},
   "outputs": [
    {
     "data": {
      "text/plain": [
       "171-0000547-8192359    1\n",
       "406-4600662-7808350    1\n",
       "406-4600557-0040364    1\n",
       "406-4600542-6625166    1\n",
       "406-4600522-4517153    1\n",
       "                      ..\n",
       "403-7247303-0806739    1\n",
       "403-7245456-5809968    1\n",
       "403-7245319-8594743    1\n",
       "403-7252648-2824327    1\n",
       "S02-9878098-5959538    1\n",
       "Name: Order ID, Length: 120378, dtype: int64"
      ]
     },
     "execution_count": 21,
     "metadata": {},
     "output_type": "execute_result"
    }
   ],
   "source": [
    "dataframe['Order ID'].value_counts(ascending=True)"
   ]
  },
  {
   "cell_type": "code",
   "execution_count": 22,
   "id": "014be5d5",
   "metadata": {},
   "outputs": [
    {
     "data": {
      "text/html": [
       "<div>\n",
       "<style scoped>\n",
       "    .dataframe tbody tr th:only-of-type {\n",
       "        vertical-align: middle;\n",
       "    }\n",
       "\n",
       "    .dataframe tbody tr th {\n",
       "        vertical-align: top;\n",
       "    }\n",
       "\n",
       "    .dataframe thead th {\n",
       "        text-align: right;\n",
       "    }\n",
       "</style>\n",
       "<table border=\"1\" class=\"dataframe\">\n",
       "  <thead>\n",
       "    <tr style=\"text-align: right;\">\n",
       "      <th></th>\n",
       "      <th>Order ID</th>\n",
       "      <th>Date</th>\n",
       "      <th>Status</th>\n",
       "      <th>Fulfilment</th>\n",
       "      <th>Sales Channel</th>\n",
       "      <th>ship-service-level</th>\n",
       "      <th>Style</th>\n",
       "      <th>SKU</th>\n",
       "      <th>Category</th>\n",
       "      <th>Size</th>\n",
       "      <th>...</th>\n",
       "      <th>Qty</th>\n",
       "      <th>currency</th>\n",
       "      <th>Amount</th>\n",
       "      <th>ship-city</th>\n",
       "      <th>ship-state</th>\n",
       "      <th>ship-postal-code</th>\n",
       "      <th>ship-country</th>\n",
       "      <th>promotion-ids</th>\n",
       "      <th>B2B</th>\n",
       "      <th>fulfilled-by</th>\n",
       "    </tr>\n",
       "  </thead>\n",
       "  <tbody>\n",
       "  </tbody>\n",
       "</table>\n",
       "<p>0 rows × 22 columns</p>\n",
       "</div>"
      ],
      "text/plain": [
       "Empty DataFrame\n",
       "Columns: [Order ID, Date, Status, Fulfilment, Sales Channel , ship-service-level, Style, SKU, Category, Size, ASIN, Courier Status, Qty, currency, Amount, ship-city, ship-state, ship-postal-code, ship-country, promotion-ids, B2B, fulfilled-by]\n",
       "Index: []\n",
       "\n",
       "[0 rows x 22 columns]"
      ]
     },
     "execution_count": 22,
     "metadata": {},
     "output_type": "execute_result"
    }
   ],
   "source": [
    "# checking if Order ID have only alphabetic characters\n",
    "dataframe[dataframe['Order ID'].str.isalpha()]"
   ]
  },
  {
   "cell_type": "markdown",
   "id": "e66598ae",
   "metadata": {},
   "source": [
    "### Cleaning Date Field"
   ]
  },
  {
   "cell_type": "code",
   "execution_count": 23,
   "id": "cc1dd0bc",
   "metadata": {},
   "outputs": [],
   "source": [
    "# string while spaces\n",
    "dataframe = strip_spaces(dataframe, 'Date')"
   ]
  },
  {
   "cell_type": "code",
   "execution_count": 24,
   "id": "112b93c9",
   "metadata": {},
   "outputs": [
    {
     "data": {
      "text/html": [
       "<div>\n",
       "<style scoped>\n",
       "    .dataframe tbody tr th:only-of-type {\n",
       "        vertical-align: middle;\n",
       "    }\n",
       "\n",
       "    .dataframe tbody tr th {\n",
       "        vertical-align: top;\n",
       "    }\n",
       "\n",
       "    .dataframe thead th {\n",
       "        text-align: right;\n",
       "    }\n",
       "</style>\n",
       "<table border=\"1\" class=\"dataframe\">\n",
       "  <thead>\n",
       "    <tr style=\"text-align: right;\">\n",
       "      <th></th>\n",
       "      <th>Order ID</th>\n",
       "      <th>Date</th>\n",
       "      <th>Status</th>\n",
       "      <th>Fulfilment</th>\n",
       "      <th>Sales Channel</th>\n",
       "      <th>ship-service-level</th>\n",
       "      <th>Style</th>\n",
       "      <th>SKU</th>\n",
       "      <th>Category</th>\n",
       "      <th>Size</th>\n",
       "      <th>...</th>\n",
       "      <th>Qty</th>\n",
       "      <th>currency</th>\n",
       "      <th>Amount</th>\n",
       "      <th>ship-city</th>\n",
       "      <th>ship-state</th>\n",
       "      <th>ship-postal-code</th>\n",
       "      <th>ship-country</th>\n",
       "      <th>promotion-ids</th>\n",
       "      <th>B2B</th>\n",
       "      <th>fulfilled-by</th>\n",
       "    </tr>\n",
       "  </thead>\n",
       "  <tbody>\n",
       "  </tbody>\n",
       "</table>\n",
       "<p>0 rows × 22 columns</p>\n",
       "</div>"
      ],
      "text/plain": [
       "Empty DataFrame\n",
       "Columns: [Order ID, Date, Status, Fulfilment, Sales Channel , ship-service-level, Style, SKU, Category, Size, ASIN, Courier Status, Qty, currency, Amount, ship-city, ship-state, ship-postal-code, ship-country, promotion-ids, B2B, fulfilled-by]\n",
       "Index: []\n",
       "\n",
       "[0 rows x 22 columns]"
      ]
     },
     "execution_count": 24,
     "metadata": {},
     "output_type": "execute_result"
    }
   ],
   "source": [
    "# checking if Date have only alphabetic characters\n",
    "dataframe[dataframe['Date'].str.isalpha()]"
   ]
  },
  {
   "cell_type": "code",
   "execution_count": 25,
   "id": "fc58f20c",
   "metadata": {
    "scrolled": false
   },
   "outputs": [
    {
     "data": {
      "text/plain": [
       "03-31-22     158\n",
       "06-29-22     606\n",
       "06-24-22     950\n",
       "06-25-22     977\n",
       "05-21-22    1002\n",
       "            ... \n",
       "04-15-22    1733\n",
       "04-14-22    1754\n",
       "05-04-22    1896\n",
       "05-02-22    1906\n",
       "05-03-22    1941\n",
       "Name: Date, Length: 91, dtype: int64"
      ]
     },
     "execution_count": 25,
     "metadata": {},
     "output_type": "execute_result"
    }
   ],
   "source": [
    "dataframe['Date'].value_counts(ascending=True)"
   ]
  },
  {
   "cell_type": "code",
   "execution_count": 26,
   "id": "60b00bf8",
   "metadata": {},
   "outputs": [],
   "source": [
    "# typecasting date from object format to date format\n",
    "dataframe['Date'] = pd.to_datetime(dataframe['Date'], format='%m-%d-%y')"
   ]
  },
  {
   "cell_type": "markdown",
   "id": "0dfe9377",
   "metadata": {},
   "source": [
    "### Cleaning Status"
   ]
  },
  {
   "cell_type": "code",
   "execution_count": 27,
   "id": "3ced6e8a",
   "metadata": {},
   "outputs": [],
   "source": [
    "# string while spaces\n",
    "dataframe = strip_spaces(dataframe, 'Status')"
   ]
  },
  {
   "cell_type": "code",
   "execution_count": 28,
   "id": "95b37c92",
   "metadata": {
    "scrolled": true
   },
   "outputs": [
    {
     "data": {
      "text/plain": [
       "array(['Shipped', 'Cancelled', 'Shipped - Delivered to Buyer', 'Pending',\n",
       "       'Pending - Waiting for Pick Up', 'Shipped - Returned to Seller',\n",
       "       'Shipped - Picked Up', 'Shipped - Returning to Seller',\n",
       "       'Shipped - Out for Delivery', 'Shipped - Rejected by Buyer',\n",
       "       'Shipped - Lost in Transit', 'Shipped - Damaged', 'Shipping'],\n",
       "      dtype=object)"
      ]
     },
     "execution_count": 28,
     "metadata": {},
     "output_type": "execute_result"
    }
   ],
   "source": [
    "# checking unique values in Status column\n",
    "dataframe['Status'].unique()"
   ]
  },
  {
   "cell_type": "markdown",
   "id": "26098584",
   "metadata": {},
   "source": [
    "### Cleaning Fulfilment"
   ]
  },
  {
   "cell_type": "code",
   "execution_count": 29,
   "id": "bbceb0af",
   "metadata": {},
   "outputs": [],
   "source": [
    "# string while spaces\n",
    "dataframe = strip_spaces(dataframe, 'Fulfilment')"
   ]
  },
  {
   "cell_type": "code",
   "execution_count": 30,
   "id": "546bb1c0",
   "metadata": {},
   "outputs": [
    {
     "data": {
      "text/plain": [
       "array(['Amazon', 'Merchant'], dtype=object)"
      ]
     },
     "execution_count": 30,
     "metadata": {},
     "output_type": "execute_result"
    }
   ],
   "source": [
    "# checking unique values in Fulfilment column\n",
    "dataframe['Fulfilment'].unique()"
   ]
  },
  {
   "cell_type": "markdown",
   "id": "88a71d29",
   "metadata": {},
   "source": [
    "### Cleaning Sales Channel"
   ]
  },
  {
   "cell_type": "code",
   "execution_count": 31,
   "id": "683f29aa",
   "metadata": {},
   "outputs": [],
   "source": [
    "# string while spaces\n",
    "dataframe = strip_spaces(dataframe, 'Sales Channel ')"
   ]
  },
  {
   "cell_type": "code",
   "execution_count": 32,
   "id": "4712f22a",
   "metadata": {},
   "outputs": [
    {
     "data": {
      "text/plain": [
       "array(['Amazon.in', 'Non-Amazon'], dtype=object)"
      ]
     },
     "execution_count": 32,
     "metadata": {},
     "output_type": "execute_result"
    }
   ],
   "source": [
    "# checking unique values in Status column\n",
    "dataframe['Sales Channel '].unique()"
   ]
  },
  {
   "cell_type": "markdown",
   "id": "c25dbdbd",
   "metadata": {},
   "source": [
    "### Cleaning ship-service-level"
   ]
  },
  {
   "cell_type": "code",
   "execution_count": 33,
   "id": "d6773dda",
   "metadata": {},
   "outputs": [],
   "source": [
    "# string while spaces\n",
    "dataframe = strip_spaces(dataframe, 'ship-service-level')"
   ]
  },
  {
   "cell_type": "code",
   "execution_count": 34,
   "id": "ca30ce9c",
   "metadata": {},
   "outputs": [
    {
     "data": {
      "text/plain": [
       "array(['Expedited', 'Standard'], dtype=object)"
      ]
     },
     "execution_count": 34,
     "metadata": {},
     "output_type": "execute_result"
    }
   ],
   "source": [
    "# checking unique values in ship-service-level column\n",
    "dataframe['ship-service-level'].unique()"
   ]
  },
  {
   "cell_type": "markdown",
   "id": "c4618fbd",
   "metadata": {},
   "source": [
    "### Cleaning Style"
   ]
  },
  {
   "cell_type": "code",
   "execution_count": 35,
   "id": "ea513e90",
   "metadata": {},
   "outputs": [
    {
     "data": {
      "text/plain": [
       "array(['JNE2032', 'J0097', 'JNE3440', ..., 'J0324', 'SET072', 'JNE2058'],\n",
       "      dtype=object)"
      ]
     },
     "execution_count": 35,
     "metadata": {},
     "output_type": "execute_result"
    }
   ],
   "source": [
    "# string while spaces\n",
    "dataframe = strip_spaces(dataframe, 'Style')\n",
    "# checking unique values in style column\n",
    "dataframe['Style'].unique()"
   ]
  },
  {
   "cell_type": "code",
   "execution_count": 36,
   "id": "93298403",
   "metadata": {},
   "outputs": [
    {
     "data": {
      "text/html": [
       "<div>\n",
       "<style scoped>\n",
       "    .dataframe tbody tr th:only-of-type {\n",
       "        vertical-align: middle;\n",
       "    }\n",
       "\n",
       "    .dataframe tbody tr th {\n",
       "        vertical-align: top;\n",
       "    }\n",
       "\n",
       "    .dataframe thead th {\n",
       "        text-align: right;\n",
       "    }\n",
       "</style>\n",
       "<table border=\"1\" class=\"dataframe\">\n",
       "  <thead>\n",
       "    <tr style=\"text-align: right;\">\n",
       "      <th></th>\n",
       "      <th>Order ID</th>\n",
       "      <th>Date</th>\n",
       "      <th>Status</th>\n",
       "      <th>Fulfilment</th>\n",
       "      <th>Sales Channel</th>\n",
       "      <th>ship-service-level</th>\n",
       "      <th>Style</th>\n",
       "      <th>SKU</th>\n",
       "      <th>Category</th>\n",
       "      <th>Size</th>\n",
       "      <th>...</th>\n",
       "      <th>Qty</th>\n",
       "      <th>currency</th>\n",
       "      <th>Amount</th>\n",
       "      <th>ship-city</th>\n",
       "      <th>ship-state</th>\n",
       "      <th>ship-postal-code</th>\n",
       "      <th>ship-country</th>\n",
       "      <th>promotion-ids</th>\n",
       "      <th>B2B</th>\n",
       "      <th>fulfilled-by</th>\n",
       "    </tr>\n",
       "  </thead>\n",
       "  <tbody>\n",
       "  </tbody>\n",
       "</table>\n",
       "<p>0 rows × 22 columns</p>\n",
       "</div>"
      ],
      "text/plain": [
       "Empty DataFrame\n",
       "Columns: [Order ID, Date, Status, Fulfilment, Sales Channel , ship-service-level, Style, SKU, Category, Size, ASIN, Courier Status, Qty, currency, Amount, ship-city, ship-state, ship-postal-code, ship-country, promotion-ids, B2B, fulfilled-by]\n",
       "Index: []\n",
       "\n",
       "[0 rows x 22 columns]"
      ]
     },
     "execution_count": 36,
     "metadata": {},
     "output_type": "execute_result"
    }
   ],
   "source": [
    "# checking if Style have only alphabetic characters to check any NAN/NA/Null values\n",
    "dataframe[dataframe['Style'].str.isalpha()]"
   ]
  },
  {
   "cell_type": "markdown",
   "id": "b2677a55",
   "metadata": {},
   "source": [
    "### Cleaning SKU"
   ]
  },
  {
   "cell_type": "code",
   "execution_count": 37,
   "id": "0792862c",
   "metadata": {},
   "outputs": [
    {
     "data": {
      "text/plain": [
       "array(['JNE2032-KR-205-XL', 'J0097-KR-M', 'JNE3440-KR-N-XS', ...,\n",
       "       'JNE3225-KR-XXXL', 'J0100-DR-S', 'BTM030-NP-S'], dtype=object)"
      ]
     },
     "execution_count": 37,
     "metadata": {},
     "output_type": "execute_result"
    }
   ],
   "source": [
    "# string while spaces\n",
    "dataframe = strip_spaces(dataframe, 'SKU')\n",
    "# checking unique values in ship-service-level column\n",
    "dataframe['SKU'].unique()"
   ]
  },
  {
   "cell_type": "code",
   "execution_count": 38,
   "id": "f0072ad4",
   "metadata": {},
   "outputs": [
    {
     "data": {
      "text/html": [
       "<div>\n",
       "<style scoped>\n",
       "    .dataframe tbody tr th:only-of-type {\n",
       "        vertical-align: middle;\n",
       "    }\n",
       "\n",
       "    .dataframe tbody tr th {\n",
       "        vertical-align: top;\n",
       "    }\n",
       "\n",
       "    .dataframe thead th {\n",
       "        text-align: right;\n",
       "    }\n",
       "</style>\n",
       "<table border=\"1\" class=\"dataframe\">\n",
       "  <thead>\n",
       "    <tr style=\"text-align: right;\">\n",
       "      <th></th>\n",
       "      <th>Order ID</th>\n",
       "      <th>Date</th>\n",
       "      <th>Status</th>\n",
       "      <th>Fulfilment</th>\n",
       "      <th>Sales Channel</th>\n",
       "      <th>ship-service-level</th>\n",
       "      <th>Style</th>\n",
       "      <th>SKU</th>\n",
       "      <th>Category</th>\n",
       "      <th>Size</th>\n",
       "      <th>...</th>\n",
       "      <th>Qty</th>\n",
       "      <th>currency</th>\n",
       "      <th>Amount</th>\n",
       "      <th>ship-city</th>\n",
       "      <th>ship-state</th>\n",
       "      <th>ship-postal-code</th>\n",
       "      <th>ship-country</th>\n",
       "      <th>promotion-ids</th>\n",
       "      <th>B2B</th>\n",
       "      <th>fulfilled-by</th>\n",
       "    </tr>\n",
       "  </thead>\n",
       "  <tbody>\n",
       "  </tbody>\n",
       "</table>\n",
       "<p>0 rows × 22 columns</p>\n",
       "</div>"
      ],
      "text/plain": [
       "Empty DataFrame\n",
       "Columns: [Order ID, Date, Status, Fulfilment, Sales Channel , ship-service-level, Style, SKU, Category, Size, ASIN, Courier Status, Qty, currency, Amount, ship-city, ship-state, ship-postal-code, ship-country, promotion-ids, B2B, fulfilled-by]\n",
       "Index: []\n",
       "\n",
       "[0 rows x 22 columns]"
      ]
     },
     "execution_count": 38,
     "metadata": {},
     "output_type": "execute_result"
    }
   ],
   "source": [
    "# checking if SKU have only alphabetic characters to check any NAN/NA/Null values\n",
    "dataframe[dataframe['SKU'].str.isalpha()]"
   ]
  },
  {
   "cell_type": "markdown",
   "id": "528bad33",
   "metadata": {},
   "source": [
    "### Cleaning Category"
   ]
  },
  {
   "cell_type": "code",
   "execution_count": 39,
   "id": "1bc70abf",
   "metadata": {},
   "outputs": [
    {
     "data": {
      "text/plain": [
       "array(['kurta', 'Set', 'Top', 'Blouse', 'Western Dress', 'Ethnic Dress',\n",
       "       'Bottom', 'Saree', 'Dupatta'], dtype=object)"
      ]
     },
     "execution_count": 39,
     "metadata": {},
     "output_type": "execute_result"
    }
   ],
   "source": [
    "# string while spaces\n",
    "dataframe = strip_spaces(dataframe, 'Category')\n",
    "# checking unique values in Category column\n",
    "dataframe['Category'].unique()"
   ]
  },
  {
   "cell_type": "markdown",
   "id": "011757ed",
   "metadata": {},
   "source": [
    "### Cleaning Size"
   ]
  },
  {
   "cell_type": "code",
   "execution_count": 40,
   "id": "8649d5d2",
   "metadata": {},
   "outputs": [
    {
     "data": {
      "text/plain": [
       "array(['XL', 'M', 'XS', 'L', '3XL', 'XXL', 'S', 'Free', '5XL', '4XL',\n",
       "       '6XL'], dtype=object)"
      ]
     },
     "execution_count": 40,
     "metadata": {},
     "output_type": "execute_result"
    }
   ],
   "source": [
    "# string while spaces\n",
    "dataframe = strip_spaces(dataframe, 'Size')\n",
    "\n",
    "# checking unique values in Size column\n",
    "dataframe['Size'].unique()"
   ]
  },
  {
   "cell_type": "markdown",
   "id": "253216b5",
   "metadata": {},
   "source": [
    "### Cleaning ASIN"
   ]
  },
  {
   "cell_type": "code",
   "execution_count": 41,
   "id": "efbe3f82",
   "metadata": {},
   "outputs": [
    {
     "data": {
      "text/plain": [
       "array(['B0768J7VQ1', 'B08BJT3PSM', 'B09HMY3YLT', ..., 'B07MY19YD4',\n",
       "       'B08VS4RLVT', 'B0845TNXLX'], dtype=object)"
      ]
     },
     "execution_count": 41,
     "metadata": {},
     "output_type": "execute_result"
    }
   ],
   "source": [
    "# string while spaces\n",
    "dataframe = strip_spaces(dataframe, 'ASIN')\n",
    "\n",
    "# checking unique values in ASIN column\n",
    "dataframe['ASIN'].unique()"
   ]
  },
  {
   "cell_type": "markdown",
   "id": "ff5829cc",
   "metadata": {},
   "source": [
    "### Cleaning Courier Status"
   ]
  },
  {
   "cell_type": "code",
   "execution_count": 42,
   "id": "bed4fddf",
   "metadata": {},
   "outputs": [
    {
     "data": {
      "text/plain": [
       "array(['Shipped', 'Unshipped', nan, 'Cancelled'], dtype=object)"
      ]
     },
     "execution_count": 42,
     "metadata": {},
     "output_type": "execute_result"
    }
   ],
   "source": [
    "# string while spaces\n",
    "dataframe = strip_spaces(dataframe, 'Courier Status')\n",
    "# checking unique values in Courier Status\n",
    "dataframe['Courier Status'].unique()"
   ]
  },
  {
   "cell_type": "markdown",
   "id": "c1db6926",
   "metadata": {},
   "source": [
    "### Cleaning Qty"
   ]
  },
  {
   "cell_type": "code",
   "execution_count": 43,
   "id": "65e1bcb6",
   "metadata": {},
   "outputs": [
    {
     "data": {
      "text/plain": [
       "array([ 1,  0,  2,  3,  4,  5,  9, 15, 13])"
      ]
     },
     "execution_count": 43,
     "metadata": {},
     "output_type": "execute_result"
    }
   ],
   "source": [
    "# checking unique values in Qty\n",
    "dataframe['Qty'].unique()"
   ]
  },
  {
   "cell_type": "markdown",
   "id": "be61ec8a",
   "metadata": {},
   "source": [
    "### Cleaning currency"
   ]
  },
  {
   "cell_type": "code",
   "execution_count": 44,
   "id": "bb535681",
   "metadata": {},
   "outputs": [
    {
     "data": {
      "text/plain": [
       "array(['INR', nan], dtype=object)"
      ]
     },
     "execution_count": 44,
     "metadata": {},
     "output_type": "execute_result"
    }
   ],
   "source": [
    "# removing spaces at starting and end of currency if anything is there and checking unque values\n",
    "dataframe = strip_spaces(dataframe, 'currency')\n",
    "dataframe['currency'].unique()"
   ]
  },
  {
   "cell_type": "markdown",
   "id": "de0ad9d1",
   "metadata": {},
   "source": [
    "### Cleaning Amount"
   ]
  },
  {
   "cell_type": "code",
   "execution_count": 45,
   "id": "4e186260",
   "metadata": {},
   "outputs": [
    {
     "data": {
      "text/plain": [
       "array([ 301.  ,  544.  ,  422.  , ...,  487.62, 2397.  , 2864.  ])"
      ]
     },
     "execution_count": 45,
     "metadata": {},
     "output_type": "execute_result"
    }
   ],
   "source": [
    "# checking unique values in Amount\n",
    "dataframe['Amount'].unique()"
   ]
  },
  {
   "cell_type": "markdown",
   "id": "36bed251",
   "metadata": {},
   "source": [
    "### Cleaning ship-city "
   ]
  },
  {
   "cell_type": "code",
   "execution_count": 46,
   "id": "362fa074",
   "metadata": {},
   "outputs": [
    {
     "data": {
      "text/plain": [
       "array(['PIMPRI CHINCHWAD', 'Howrah', 'KODAD', ..., 'jalgaon',\n",
       "       'NEW DELHIDe', 'District Fatehabad'], dtype=object)"
      ]
     },
     "execution_count": 46,
     "metadata": {},
     "output_type": "execute_result"
    }
   ],
   "source": [
    "# removing spaces at starting and end of ship-city if anything is there and checking unque values\n",
    "dataframe = strip_spaces(dataframe, 'ship-city')\n",
    "dataframe['ship-city'].unique()"
   ]
  },
  {
   "cell_type": "code",
   "execution_count": 48,
   "id": "3e25c315",
   "metadata": {},
   "outputs": [],
   "source": [
    "def classify_city(city, major_cities):\n",
    "    if isinstance(city, str):\n",
    "        # Clean the city name\n",
    "        cleaned_city = re.sub(r'[^\\w\\s]', '', city)  # Remove special characters except spaces\n",
    "        cleaned_city = re.sub(r'\\d+', '', cleaned_city)  # Remove numbers\n",
    "        cleaned_city = cleaned_city.strip()  # Remove leading and trailing spaces\n",
    "\n",
    "        # Convert cleaned city name to title case\n",
    "        cleaned_city_title = cleaned_city.title()\n",
    "\n",
    "        # Check if any major city is part of the cleaned city name\n",
    "        for major_city in major_cities:\n",
    "            if major_city.lower() in cleaned_city_title.lower():\n",
    "                return major_city\n",
    "\n",
    "    return 'Other'\n",
    "\n",
    "# Example usage\n",
    "major_cities = [\n",
    "    'Mumbai', 'Delhi', 'Bangalore', 'Kolkata', 'Chennai', 'Hyderabad', 'Pune', \n",
    "    'Ahmedabad', 'Surat', 'Jaipur', 'Lucknow', 'Kanpur', 'Nagpur', 'Indore', \n",
    "    'Bhopal', 'Visakhapatnam', 'Vadodara', 'Ghaziabad', 'Ludhiana', 'Agra', \n",
    "    'Nashik', 'Meerut', 'Faridabad', 'Ranchi', 'Jabalpur', 'Kota', 'Udaipur', \n",
    "    'Coimbatore', 'Madurai', 'Thane', 'Mangalore', 'Jodhpur', 'Amritsar', \n",
    "    'Navi Mumbai', 'Dehradun', 'Shimla', 'Gangtok', 'Trivandrum', 'Tiruchirappalli', \n",
    "    'Salem', 'Warangal', 'Raipur', 'Kakinada', 'Bhubaneswar', 'Puducherry', \n",
    "    'Chandigarh', 'Durgapur', 'Bhilai', 'Siliguri', 'Tirupati', 'Kollam', \n",
    "    'Jamshedpur', 'Bilaspur', 'Hapur', 'Ambala', 'Satna', 'Aurangabad', \n",
    "    'Mysore', 'Hubli', 'Nellore', 'Gwalior', 'Sambalpur', 'Rourkela', \n",
    "    'Vellore', 'Erode', 'Karaikal', 'Davanagere', 'Kochi', 'Kottayam', \n",
    "    'Malappuram', 'Pathanamthitta', 'Kannur', 'Alappuzha', 'Kasaragod', \n",
    "    'Chennai', 'Tirunelveli', 'Tuticorin', 'Nagercoil', 'Ramanathapuram', \n",
    "    'Dharmapuri', 'Salem', 'Vellore'\n",
    "]"
   ]
  },
  {
   "cell_type": "code",
   "execution_count": 49,
   "id": "b77322f7",
   "metadata": {},
   "outputs": [],
   "source": [
    "dataframe['classified_city'] = dataframe['ship-city'].apply(lambda x: classify_city(x, major_cities))"
   ]
  },
  {
   "cell_type": "code",
   "execution_count": 50,
   "id": "e2cd6b9a",
   "metadata": {},
   "outputs": [],
   "source": [
    "dataframe['ship-city'] = dataframe['ship-city'].str.title()"
   ]
  },
  {
   "cell_type": "markdown",
   "id": "7ed5caaf",
   "metadata": {},
   "source": [
    "### Cleaning ship-state"
   ]
  },
  {
   "cell_type": "code",
   "execution_count": 51,
   "id": "d640760a",
   "metadata": {},
   "outputs": [
    {
     "data": {
      "text/plain": [
       "array(['MAHARASHTRA', 'WEST BENGAL', 'TELANGANA', 'UTTAR PRADESH',\n",
       "       'DELHI', 'punjab', 'BIHAR', 'Gujarat', 'JHARKHAND', 'TRIPURA',\n",
       "       'HARYANA', 'RAJASTHAN', 'ANDHRA PRADESH', 'ASSAM', 'KARNATAKA',\n",
       "       'UTTARAKHAND', 'TAMIL NADU', 'KERALA', 'ODISHA', 'CHHATTISGARH',\n",
       "       'New Delhi', 'MADHYA PRADESH', 'HIMACHAL PRADESH',\n",
       "       'JAMMU & KASHMIR', 'PUDUCHERRY', 'GOA', 'MANIPUR', 'MEGHALAYA',\n",
       "       'Delhi', 'PUNJAB', 'SIKKIM', 'CHANDIGARH', 'MIZORAM',\n",
       "       'ARUNACHAL PRADESH', 'Goa', 'DADRA AND NAGAR', 'ANDAMAN & NICOBAR',\n",
       "       'Chandigarh', 'delhi', 'Rajasthan', 'NL', 'Orissa', 'NAGALAND',\n",
       "       'Punjab', 'Odisha', 'LADAKH', nan, 'Bihar', 'rajasthan', 'Sikkim',\n",
       "       'rajsthan', 'orissa', 'goa', 'Manipur', 'Pondicherry',\n",
       "       'Arunachal Pradesh', 'LAKSHADWEEP', 'Meghalaya',\n",
       "       'Arunachal pradesh', 'Nagaland', 'PB', 'Rajshthan', 'Mizoram',\n",
       "       'APO', 'Rajsthan', 'RJ', 'AR', 'bihar', 'Puducherry',\n",
       "       'Punjab/Mohali/Zirakpur'], dtype=object)"
      ]
     },
     "execution_count": 51,
     "metadata": {},
     "output_type": "execute_result"
    }
   ],
   "source": [
    "# removing spaces at starting and end of ship-state if anything is there and checking unque values\n",
    "dataframe = strip_spaces(dataframe, 'ship-state')\n",
    "dataframe['ship-state'].unique()"
   ]
  },
  {
   "cell_type": "code",
   "execution_count": 52,
   "id": "60770dbf",
   "metadata": {},
   "outputs": [],
   "source": [
    "dataframe['ship-state'] = dataframe['ship-state'].str.title()"
   ]
  },
  {
   "cell_type": "code",
   "execution_count": 53,
   "id": "5dd469c5",
   "metadata": {},
   "outputs": [],
   "source": [
    "# Create a mapping dictionary to correct state names\n",
    "state_mapping = {\n",
    "    'Puducherry': 'Pondicherry',\n",
    "    'Tamil Nadu': 'Tamil Nadu',\n",
    "    'Uttar Pradesh': 'Uttar Pradesh',\n",
    "    'Chandigarh': 'Chandigarh',\n",
    "    'Telangana': 'Telangana',\n",
    "    'Andhra Pradesh': 'Andhra Pradesh',\n",
    "    'Rajasthan': 'Rajasthan',\n",
    "    'Delhi': 'Delhi',\n",
    "    'Haryana': 'Haryana',\n",
    "    'Assam': 'Assam',\n",
    "    'Jharkhand': 'Jharkhand',\n",
    "    'Chhattisgarh': 'Chhattisgarh',\n",
    "    'Odisha': 'Odisha',\n",
    "    'Kerala': 'Kerala',\n",
    "    'Madhya Pradesh': 'Madhya Pradesh',\n",
    "    'West Bengal': 'West Bengal',\n",
    "    'Nagaland': 'Nagaland',\n",
    "    'Gujarat': 'Gujarat',\n",
    "    'Uttarakhand': 'Uttarakhand',\n",
    "    'Bihar': 'Bihar',\n",
    "    'Jammu & Kashmir': 'Jammu & Kashmir',\n",
    "    'Punjab': 'Punjab',\n",
    "    'Himachal Pradesh': 'Himachal Pradesh',\n",
    "    'Arunachal Pradesh': 'Arunachal Pradesh',\n",
    "    'Manipur': 'Manipur',\n",
    "    'Goa': 'Goa',\n",
    "    'Meghalaya': 'Meghalaya',\n",
    "    'Tripura': 'Tripura',\n",
    "    'Ladakh': 'Ladakh',\n",
    "    'Dadra And Nagar': 'Dadra and Nagar Haveli',\n",
    "    'Sikkim': 'Sikkim',\n",
    "    'Andaman & Nicobar': 'Andaman and Nicobar Islands',\n",
    "    'Rajshthan': 'Rajasthan',          # Correction for misspelled 'Rajasthan'\n",
    "    'Nl': 'Nagaland',                  # Assuming 'Nl' is 'Nagaland'\n",
    "    'Mizoram': 'Mizoram',\n",
    "    'New Delhi': 'Delhi',              # Treat 'New Delhi' as 'Delhi'\n",
    "    'Punjab/Mohali/Zirakpur': 'Punjab',# Treat as 'Punjab'\n",
    "    'Rj': 'Rajasthan',                 # Correction for 'Rajasthan'\n",
    "    'Orissa': 'Odisha',                # Older name for 'Odisha'\n",
    "    'Lakshadweep': 'Lakshadweep',\n",
    "    'Pb': 'Punjab',                    # Abbreviation for 'Punjab'\n",
    "    'Apo': 'Andhra Pradesh',           # Assuming 'Apo' might be a typo for 'Andhra Pradesh'\n",
    "    'Ar': 'Arunachal Pradesh',         # Assuming 'Ar' is 'Arunachal Pradesh'\n",
    "    'Pondicherry': 'Pondicherry',      # Alternate spelling for 'Puducherry'\n",
    "    'Rajsthan': 'Rajasthan'            # Correction for misspelled 'Rajasthan'\n",
    "}\n",
    "\n",
    "dataframe['ship-state'] = dataframe['ship-state'].replace(state_mapping)"
   ]
  },
  {
   "cell_type": "code",
   "execution_count": 54,
   "id": "ae6f6ef2",
   "metadata": {},
   "outputs": [
    {
     "data": {
      "text/plain": [
       "array(['Maharashtra', 'West Bengal', 'Telangana', 'Uttar Pradesh',\n",
       "       'Delhi', 'Punjab', 'Bihar', 'Gujarat', 'Jharkhand', 'Tripura',\n",
       "       'Haryana', 'Rajasthan', 'Andhra Pradesh', 'Assam', 'Karnataka',\n",
       "       'Uttarakhand', 'Tamil Nadu', 'Kerala', 'Odisha', 'Chhattisgarh',\n",
       "       'Madhya Pradesh', 'Himachal Pradesh', 'Jammu & Kashmir',\n",
       "       'Pondicherry', 'Goa', 'Manipur', 'Meghalaya', 'Sikkim',\n",
       "       'Chandigarh', 'Mizoram', 'Arunachal Pradesh',\n",
       "       'Dadra and Nagar Haveli', 'Andaman and Nicobar Islands',\n",
       "       'Nagaland', 'Ladakh', nan, 'Lakshadweep'], dtype=object)"
      ]
     },
     "execution_count": 54,
     "metadata": {},
     "output_type": "execute_result"
    }
   ],
   "source": [
    "dataframe['ship-state'].unique()"
   ]
  },
  {
   "cell_type": "markdown",
   "id": "dff0f496",
   "metadata": {},
   "source": [
    "### Cleaning ship-postal-code"
   ]
  },
  {
   "cell_type": "code",
   "execution_count": 55,
   "id": "6e6454a5",
   "metadata": {},
   "outputs": [
    {
     "data": {
      "text/plain": [
       "array([412101., 711104., 508206., ..., 533343., 502205., 679123.])"
      ]
     },
     "execution_count": 55,
     "metadata": {},
     "output_type": "execute_result"
    }
   ],
   "source": [
    "# checking unque values\n",
    "dataframe['ship-postal-code'].unique()"
   ]
  },
  {
   "cell_type": "markdown",
   "id": "39b9a2cf",
   "metadata": {},
   "source": [
    "### Cleaning ship-country "
   ]
  },
  {
   "cell_type": "code",
   "execution_count": 56,
   "id": "421d3902",
   "metadata": {},
   "outputs": [
    {
     "data": {
      "text/plain": [
       "array(['IN', nan], dtype=object)"
      ]
     },
     "execution_count": 56,
     "metadata": {},
     "output_type": "execute_result"
    }
   ],
   "source": [
    "# removing spaces at starting and end of ship-country if anything is there and checking unque values\n",
    "dataframe = strip_spaces(dataframe, 'ship-country')\n",
    "dataframe['ship-country'].unique()"
   ]
  },
  {
   "cell_type": "code",
   "execution_count": 57,
   "id": "94ff04d3",
   "metadata": {},
   "outputs": [],
   "source": [
    "dataframe['ship-country'] = dataframe['ship-country'].replace({'IN':'India'})"
   ]
  },
  {
   "cell_type": "markdown",
   "id": "935f2fc1",
   "metadata": {},
   "source": [
    "### Cleaning promotion-ids"
   ]
  },
  {
   "cell_type": "code",
   "execution_count": 58,
   "id": "deb23eb4",
   "metadata": {},
   "outputs": [
    {
     "data": {
      "text/plain": [
       "array([nan, 'IN Core Free Shipping 2015/04/08 23-48-5-108',\n",
       "       'Amazon PLCC Free-Financing Universal Merchant AAT-WNKTBO3K27EJC,Amazon PLCC Free-Financing Universal Merchant AAT-QX3UCCJESKPA2,Amazon PLCC Free-Financing Universal Merchant AAT-5QQ7BIYYQEDN2,Amazon PLCC Free-Financing Universal Merchant AAT-DSJ2QRXXWXVMQ,Amazon PLCC Free-Financing Universal Merchant AAT-CXJHMC2YJUK76,Amazon PLCC Free-Financing Universal Merchant AAT-SL3Y2YRMAUNFC,Amazon PLCC Free-Financing Universal Merchant AAT-CC4FAVTYR4X7C,Amazon PLCC Free-Financing Universal Merchant AAT-XXRCW6NZEPZI4,Amazon PLCC Free-Financing Universal Merchant AAT-R7GXNZWISTRFA,Amazon PLCC Free-Financing Universal Merchant AAT-EOKPWFWYW7Y6I,Amazon PLCC Free-Financing Universal Merchant AAT-N6QGG4HRHN6T4,Amazon PLCC Free-Financing Universal Merchant AAT-PZHUW6DZX4BPS,Amazon PLCC Free-Financing Universal Merchant AAT-ETXQ3XXWMRXBG,Amazon PLCC Free-Financing Universal Merchant AAT-7X3XCTYG64VBE,Amazon PLCC Free-Financing Universal Merchant AAT-7CHGD3WTS3MHM,Amazon PLCC Free-Financing Universal Merchant AAT-26ZDKNME27X42,Amazon PLCC Free-Financing Universal Merchant AAT-4ZF5KN6E4LJK4,Amazon PLCC Free-Financing Universal Merchant AAT-7RCXIKUAX7DDY,Amazon PLCC Free-Financing Universal Merchant AAT-BRSZZ45H6MHAO,Amazon PLCC Free-Financing Universal Merchant AAT-MKLXOOZWQL7GO,Amazon PLCC Free-Financing Universal Merchant AAT-CB7UNXEXGIJTC,Amazon PLCC Free-Financing Universal Merchant #MP-gzasho-1593152694811,Amazon PLCC Free-Financing Universal Merchant AAT-WLBA4GZ52EAH4,Amazon PLCC Free-Financing Universal Merchant #MP-pmilan-1601980554292',\n",
       "       ...,\n",
       "       'Amazon PLCC Free-Financing Universal Merchant AAT-WNKTBO3K27EJC,Amazon PLCC Free-Financing Universal Merchant AAT-QX3UCCJESKPA2,Amazon PLCC Free-Financing Universal Merchant AAT-5QQ7BIYYQEDN2,Amazon PLCC Free-Financing Universal Merchant AAT-DSJ2QRXXWXVMQ,Amazon PLCC Free-Financing Universal Merchant AAT-CXJHMC2YJUK76,Amazon PLCC Free-Financing Universal Merchant AAT-CC4FAVTYR4X7C,Amazon PLCC Free-Financing Universal Merchant AAT-FYWJCQHU2XQ2U,Amazon PLCC Free-Financing Universal Merchant AAT-EOKPWFWYW7Y6I,Amazon PLCC Free-Financing Universal Merchant AAT-URPEBMPS7TSPE,Amazon PLCC Free-Financing Universal Merchant AAT-BQZALNWZFFNH2,Amazon PLCC Free-Financing Universal Merchant AAT-ZF7YE6D3FPHMI,Amazon PLCC Free-Financing Universal Merchant AAT-TNYHCYLOWRIHK,Amazon PLCC Free-Financing Universal Merchant AAT-BRSZZ45H6MHAO,Amazon PLCC Free-Financing Universal Merchant AAT-MKLXOOZWQL7GO,Amazon PLCC Free-Financing Universal Merchant AAT-CB7UNXEXGIJTC,Amazon PLCC Free-Financing Universal Merchant #MP-gzasho-1593152694811,Amazon PLCC Free-Financing Universal Merchant AAT-WLBA4GZ52EAH4',\n",
       "       'Amazon PLCC Free-Financing Universal Merchant AAT-WNKTBO3K27EJC,Amazon PLCC Free-Financing Universal Merchant AAT-QX3UCCJESKPA2,Amazon PLCC Free-Financing Universal Merchant AAT-5QQ7BIYYQEDN2,Amazon PLCC Free-Financing Universal Merchant AAT-DSJ2QRXXWXVMQ,Amazon PLCC Free-Financing Universal Merchant AAT-CXJHMC2YJUK76,Amazon PLCC Free-Financing Universal Merchant AAT-CC4FAVTYR4X7C,Amazon PLCC Free-Financing Universal Merchant AAT-FYWJCQHU2XQ2U,Amazon PLCC Free-Financing Universal Merchant AAT-R7GXNZWISTRFA,Amazon PLCC Free-Financing Universal Merchant AAT-WSJLDN3X7KEMO,Amazon PLCC Free-Financing Universal Merchant AAT-VL6FGQVGQVXUS,Amazon PLCC Free-Financing Universal Merchant AAT-EOKPWFWYW7Y6I,Amazon PLCC Free-Financing Universal Merchant AAT-URPEBMPS7TSPE,Amazon PLCC Free-Financing Universal Merchant AAT-WJNFN7RN4AM56,Amazon PLCC Free-Financing Universal Merchant AAT-KRZXHZ23VMAKE,Amazon PLCC Free-Financing Universal Merchant AAT-L2DLP5YGE5766,Amazon PLCC Free-Financing Universal Merchant AAT-5ZEB2OGNZ32MC,Amazon PLCC Free-Financing Universal Merchant AAT-YZ2VQO2YM6YYM,Amazon PLCC Free-Financing Universal Merchant AAT-4EOBCMLXMLDGY,Amazon PLCC Free-Financing Universal Merchant AAT-UB6CYNTOQMM7C,Amazon PLCC Free-Financing Universal Merchant AAT-BRSZZ45H6MHAO,Amazon PLCC Free-Financing Universal Merchant AAT-MKLXOOZWQL7GO,Amazon PLCC Free-Financing Universal Merchant AAT-CB7UNXEXGIJTC,Amazon PLCC Free-Financing Universal Merchant #MP-gzasho-1593152694811,Amazon PLCC Free-Financing Universal Merchant AAT-WLBA4GZ52EAH4',\n",
       "       'Amazon PLCC Free-Financing Universal Merchant AAT-WNKTBO3K27EJC,Amazon PLCC Free-Financing Universal Merchant AAT-QX3UCCJESKPA2,Amazon PLCC Free-Financing Universal Merchant AAT-5QQ7BIYYQEDN2,Amazon PLCC Free-Financing Universal Merchant AAT-DSJ2QRXXWXVMQ,Amazon PLCC Free-Financing Universal Merchant AAT-CXJHMC2YJUK76,Amazon PLCC Free-Financing Universal Merchant AAT-CC4FAVTYR4X7C,Amazon PLCC Free-Financing Universal Merchant AAT-FYWJCQHU2XQ2U,Amazon PLCC Free-Financing Universal Merchant AAT-R7GXNZWISTRFA,Amazon PLCC Free-Financing Universal Merchant AAT-EOKPWFWYW7Y6I,Amazon PLCC Free-Financing Universal Merchant AAT-URPEBMPS7TSPE,Amazon PLCC Free-Financing Universal Merchant AAT-L2DLP5YGE5766,Amazon PLCC Free-Financing Universal Merchant AAT-4ZN7U6MMDFGWM,Amazon PLCC Free-Financing Universal Merchant AAT-PAWHL2EB33U42,Amazon PLCC Free-Financing Universal Merchant AAT-7WX4JYESZISLU,Amazon PLCC Free-Financing Universal Merchant AAT-CIX56SGGAWUYW,Amazon PLCC Free-Financing Universal Merchant AAT-DMQVBJASKTAHS,Amazon PLCC Free-Financing Universal Merchant AAT-OZQCPML255CW2,Amazon PLCC Free-Financing Universal Merchant AAT-TNYBHEAO7HOHO,Amazon PLCC Free-Financing Universal Merchant AAT-BRSZZ45H6MHAO,Amazon PLCC Free-Financing Universal Merchant AAT-MKLXOOZWQL7GO,Amazon PLCC Free-Financing Universal Merchant AAT-CB7UNXEXGIJTC,Amazon PLCC Free-Financing Universal Merchant #MP-gzasho-1593152694811,Amazon PLCC Free-Financing Universal Merchant AAT-WLBA4GZ52EAH4,Amazon PLCC Free-Financing Universal Merchant AAT-QMFZ3M7T5NPDS,Amazon PLCC Free-Financing Universal Merchant #MP-pmilan-1601980554292'],\n",
       "      dtype=object)"
      ]
     },
     "execution_count": 58,
     "metadata": {},
     "output_type": "execute_result"
    }
   ],
   "source": [
    "# removing spaces at starting and end of promotion-ids if anything is there and checking unque values\n",
    "dataframe = strip_spaces(dataframe, 'promotion-ids')\n",
    "dataframe['promotion-ids'].unique()"
   ]
  },
  {
   "cell_type": "markdown",
   "id": "c4136f48",
   "metadata": {},
   "source": [
    "### Cleaning B2B"
   ]
  },
  {
   "cell_type": "code",
   "execution_count": 59,
   "id": "23d18a94",
   "metadata": {},
   "outputs": [
    {
     "data": {
      "text/plain": [
       "array([False,  True])"
      ]
     },
     "execution_count": 59,
     "metadata": {},
     "output_type": "execute_result"
    }
   ],
   "source": [
    "# checking unique values in Size column\n",
    "dataframe['B2B'].unique()"
   ]
  },
  {
   "cell_type": "markdown",
   "id": "4e8b7221",
   "metadata": {},
   "source": [
    "### Cleaning fulfilled-by"
   ]
  },
  {
   "cell_type": "code",
   "execution_count": 60,
   "id": "3cd1dd74",
   "metadata": {},
   "outputs": [
    {
     "data": {
      "text/plain": [
       "array([nan, 'Easy Ship'], dtype=object)"
      ]
     },
     "execution_count": 60,
     "metadata": {},
     "output_type": "execute_result"
    }
   ],
   "source": [
    "# removing spaces at starting and end of fulfilled-by if anything is there\n",
    "dataframe = strip_spaces(dataframe, 'fulfilled-by')\n",
    "\n",
    "# checking unique values in Size column\n",
    "dataframe['fulfilled-by'].unique()"
   ]
  },
  {
   "cell_type": "markdown",
   "id": "3781d068",
   "metadata": {},
   "source": [
    "### Renaming Column Names"
   ]
  },
  {
   "cell_type": "code",
   "execution_count": 61,
   "id": "e264f729",
   "metadata": {},
   "outputs": [
    {
     "data": {
      "text/plain": [
       "Index(['Order ID', 'Date', 'Status', 'Fulfilment', 'Sales Channel ',\n",
       "       'ship-service-level', 'Style', 'SKU', 'Category', 'Size', 'ASIN',\n",
       "       'Courier Status', 'Qty', 'currency', 'Amount', 'ship-city',\n",
       "       'ship-state', 'ship-postal-code', 'ship-country', 'promotion-ids',\n",
       "       'B2B', 'fulfilled-by', 'classified_city'],\n",
       "      dtype='object')"
      ]
     },
     "execution_count": 61,
     "metadata": {},
     "output_type": "execute_result"
    }
   ],
   "source": [
    "dataframe.columns"
   ]
  },
  {
   "cell_type": "code",
   "execution_count": 62,
   "id": "45adfb54",
   "metadata": {},
   "outputs": [],
   "source": [
    "# Rename columns: convert to lowercase, replace spaces with underscores, and replace hyphens with underscores\n",
    "dataframe.columns = dataframe.columns.str.lower().str.replace(' ', '_').str.replace('-', '_')"
   ]
  },
  {
   "cell_type": "code",
   "execution_count": 63,
   "id": "3b978c9f",
   "metadata": {},
   "outputs": [
    {
     "data": {
      "text/plain": [
       "Index(['order_id', 'date', 'status', 'fulfilment', 'sales_channel_',\n",
       "       'ship_service_level', 'style', 'sku', 'category', 'size', 'asin',\n",
       "       'courier_status', 'qty', 'currency', 'amount', 'ship_city',\n",
       "       'ship_state', 'ship_postal_code', 'ship_country', 'promotion_ids',\n",
       "       'b2b', 'fulfilled_by', 'classified_city'],\n",
       "      dtype='object')"
      ]
     },
     "execution_count": 63,
     "metadata": {},
     "output_type": "execute_result"
    }
   ],
   "source": [
    "dataframe.columns"
   ]
  },
  {
   "cell_type": "code",
   "execution_count": 64,
   "id": "9f5a29db",
   "metadata": {},
   "outputs": [],
   "source": [
    "dataframe.rename(columns={'sales_channel_':'sales_channel'}, inplace=True)"
   ]
  },
  {
   "cell_type": "markdown",
   "id": "2e99be26",
   "metadata": {},
   "source": [
    "## Exporting data to Database"
   ]
  },
  {
   "cell_type": "code",
   "execution_count": 65,
   "id": "7e02a414",
   "metadata": {},
   "outputs": [
    {
     "name": "stdout",
     "output_type": "stream",
     "text": [
      "Data successfully loaded into the database.\n"
     ]
    }
   ],
   "source": [
    "db_type = 'postgresql'\n",
    "username = 'fedex_user'\n",
    "password = \"Fedex9663\"\n",
    "host = 'localhost'\n",
    "port = '5432'  # default port for PostgreSQL, change if using a different database\n",
    "database_name = 'fedex'\n",
    "\n",
    "# Create a database connection string\n",
    "connection_string = f\"{db_type}://{username}:{password}@{host}:{port}/{database_name}\"\n",
    "\n",
    "# Create a SQLAlchemy engine\n",
    "engine = create_engine(connection_string)\n",
    "\n",
    "# Write the DataFrame to the database with table name 'cleaned_dataset'\n",
    "dataframe.to_sql('cleaned_dataset', engine, if_exists='replace', index=False)\n",
    "\n",
    "print(\"Data successfully loaded into the database.\")\n"
   ]
  },
  {
   "cell_type": "code",
   "execution_count": 66,
   "id": "0bc6ba03",
   "metadata": {},
   "outputs": [
    {
     "data": {
      "text/plain": [
       "Index(['order_id', 'date', 'status', 'fulfilment', 'sales_channel',\n",
       "       'ship_service_level', 'style', 'sku', 'category', 'size', 'asin',\n",
       "       'courier_status', 'qty', 'currency', 'amount', 'ship_city',\n",
       "       'ship_state', 'ship_postal_code', 'ship_country', 'promotion_ids',\n",
       "       'b2b', 'fulfilled_by', 'classified_city'],\n",
       "      dtype='object')"
      ]
     },
     "execution_count": 66,
     "metadata": {},
     "output_type": "execute_result"
    }
   ],
   "source": [
    "dataframe.columns"
   ]
  },
  {
   "cell_type": "code",
   "execution_count": 347,
   "id": "16a112f4",
   "metadata": {},
   "outputs": [],
   "source": [
    "status: ['Shipped', 'Cancelled', 'Shipped - Delivered to Buyer', 'Pending',\n",
    "       'Pending - Waiting for Pick Up', 'Shipped - Returned to Seller',\n",
    "       'Shipped - Picked Up', 'Shipped - Returning to Seller',\n",
    "       'Shipped - Out for Delivery', 'Shipped - Rejected by Buyer',\n",
    "       'Shipped - Lost in Transit', 'Shipped - Damaged', 'Shipping']\n",
    "fulfilment: ['Amazon', 'Merchant']\n",
    "sales_channel: ['Amazon.in', 'Non-Amazon']\n",
    "ship_service_level: ['Expedited', 'Standard']\n",
    "courier_status: ['Shipped', 'Unshipped', nan, 'Cancelled']\n",
    "b2b: [True, False]\n",
    "fulfilled_by: [nan, 'Easy Ship']"
   ]
  },
  {
   "cell_type": "code",
   "execution_count": null,
   "id": "281ba8fa",
   "metadata": {},
   "outputs": [],
   "source": []
  }
 ],
 "metadata": {
  "kernelspec": {
   "display_name": "Python 3 (ipykernel)",
   "language": "python",
   "name": "python3"
  },
  "language_info": {
   "codemirror_mode": {
    "name": "ipython",
    "version": 3
   },
   "file_extension": ".py",
   "mimetype": "text/x-python",
   "name": "python",
   "nbconvert_exporter": "python",
   "pygments_lexer": "ipython3",
   "version": "3.11.4"
  }
 },
 "nbformat": 4,
 "nbformat_minor": 5
}
